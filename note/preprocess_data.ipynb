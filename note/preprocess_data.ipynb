{
 "cells": [
  {
   "cell_type": "code",
   "execution_count": null,
   "metadata": {},
   "outputs": [],
   "source": [
    "%load_ext autoreload\n",
    "%autoreload 2"
   ]
  },
  {
   "cell_type": "code",
   "execution_count": null,
   "metadata": {},
   "outputs": [],
   "source": [
    "from PIL import Image\n",
    "import os\n",
    "from pathlib import Path\n",
    "import numpy as np\n",
    "import matplotlib.pyplot as plt\n",
    "import sklearn\n",
    "import cv2"
   ]
  },
  {
   "attachments": {},
   "cell_type": "markdown",
   "metadata": {},
   "source": [
    "### Segmentation map"
   ]
  },
  {
   "cell_type": "code",
   "execution_count": 3,
   "metadata": {},
   "outputs": [],
   "source": [
    "data_path_material_id_c_stud = Path('../data/raw/cStud/Material_ID/')\n",
    "data_path_material_id_cmu = Path('../data/raw/cmu/Material_ID/')\n",
    "data_path_material_id_tile = Path('../data/raw/tile/Material_ID/')\n",
    "data_path_material_id_wood = Path('../data/raw/WD/Material_ID/')"
   ]
  },
  {
   "cell_type": "code",
   "execution_count": 39,
   "metadata": {},
   "outputs": [],
   "source": [
    "test_img = np.array(Image.open(data_path_material_id_wood / 'Frame_00071.png'))[:,:,:-1]\n",
    "kernel = np.array([[0, -1, 0],\n",
    "                   [-1, 5,-1],\n",
    "                   [0, -1, 0]])\n",
    "image_sharp = cv2.filter2D(src=test_img, ddepth=-1, kernel=kernel)"
   ]
  },
  {
   "cell_type": "code",
   "execution_count": 40,
   "metadata": {},
   "outputs": [
    {
     "name": "stdout",
     "output_type": "stream",
     "text": [
      "Frame_00059.png 280\n"
     ]
    }
   ],
   "source": [
    "colors = list(zip(*np.unique(test_img.reshape(-1,3), axis=0, return_counts=True)))\n",
    "colors = sorted(colors, key=lambda x : x[1], reverse=True)\n",
    "print(os.listdir(data_path_material_id_c_stud)[0], len(colors))"
   ]
  },
  {
   "cell_type": "code",
   "execution_count": 41,
   "metadata": {},
   "outputs": [],
   "source": [
    "def showColor(rgb):\n",
    "    plt.imshow(np.tile(rgb, [1,1,1]))"
   ]
  },
  {
   "cell_type": "code",
   "execution_count": 42,
   "metadata": {},
   "outputs": [
    {
     "data": {
      "image/png": "[encoded data removed]",
      "text/plain": [
       "<Figure size 1000x1000 with 20 Axes>"
      ]
     },
     "metadata": {},
     "output_type": "display_data"
    }
   ],
   "source": [
    "plt.figure(figsize=(10,10))\n",
    "for i in range(20):\n",
    "    plt.subplot(1, 20, i+1)\n",
    "    plt.axis('off')\n",
    "    plt.title(str(i))\n",
    "    showColor(colors[i][0])"
   ]
  },
  {
   "cell_type": "code",
   "execution_count": null,
   "metadata": {},
   "outputs": [],
   "source": [
    "# 2 6"
   ]
  },
  {
   "cell_type": "code",
   "execution_count": 43,
   "metadata": {},
   "outputs": [
    {
     "data": {
      "text/plain": [
       "array([175, 142,  87], dtype=uint8)"
      ]
     },
     "execution_count": 43,
     "metadata": {},
     "output_type": "execute_result"
    }
   ],
   "source": [
    "colors[8][0]"
   ]
  },
  {
   "attachments": {},
   "cell_type": "markdown",
   "metadata": {},
   "source": [
    "Color rule\n",
    "- 6 == 10\n",
    "- 5 == 13\n",
    "- 13까지"
   ]
  },
  {
   "cell_type": "code",
   "execution_count": null,
   "metadata": {},
   "outputs": [],
   "source": []
  },
  {
   "cell_type": "code",
   "execution_count": 8,
   "metadata": {},
   "outputs": [],
   "source": [
    "colors_rgb = list(map(lambda x : list(x[0]), colors))"
   ]
  },
  {
   "cell_type": "code",
   "execution_count": 10,
   "metadata": {},
   "outputs": [
    {
     "data": {
      "image/png": "[encoded data removed]",
      "text/plain": [
       "<Figure size 1000x1000 with 20 Axes>"
      ]
     },
     "metadata": {},
     "output_type": "display_data"
    }
   ],
   "source": [
    "plt.figure(figsize=(10,10))\n",
    "for i in range(20):\n",
    "    plt.subplot(1, 20, i+1)\n",
    "    plt.axis('off')\n",
    "    plt.title(str(i))\n",
    "    showColor(colors_rgb[i])"
   ]
  },
  {
   "attachments": {},
   "cell_type": "markdown",
   "metadata": {},
   "source": [
    "### Clustering"
   ]
  },
  {
   "cell_type": "code",
   "execution_count": null,
   "metadata": {},
   "outputs": [],
   "source": [
    "from sklearn import cluster"
   ]
  },
  {
   "cell_type": "code",
   "execution_count": null,
   "metadata": {},
   "outputs": [],
   "source": [
    "centers_init, indices = cluster.kmeans_plusplus(np.array(colors_rgb), n_clusters=15, random_state=0)"
   ]
  },
  {
   "cell_type": "code",
   "execution_count": null,
   "metadata": {},
   "outputs": [],
   "source": [
    "plt.figure(figsize=(10,10))\n",
    "for i in range(15):\n",
    "    plt.subplot(1, 15, i+1)\n",
    "    plt.axis('off')\n",
    "    showColor(centers_init[i])    "
   ]
  },
  {
   "cell_type": "code",
   "execution_count": 12,
   "metadata": {},
   "outputs": [],
   "source": [
    "def nearestIdx(centerPoints, data):\n",
    "    return np.argmin(((centerPoints.astype(np.float32) - data)**2).sum(-1)**(0.5))\n",
    "\n",
    "def selectMostColor(colors_rgb, indexes):\n",
    "    unque_index = np.unique(indexes)\n",
    "    index_2_colors = {}\n",
    "    for i in unque_index:\n",
    "        \n",
    "        [i[1] for i in colors][np.array(indexes) == i]\n",
    "        index_2_colors[i]= values[np.argmax(cnt)]\n",
    "    return index_2_colors"
   ]
  },
  {
   "cell_type": "code",
   "execution_count": 13,
   "metadata": {},
   "outputs": [],
   "source": [
    "colors_rgb_indexs = np.array([nearestIdx(np.array(colors_rgb[:14]), i) for i in colors_rgb])"
   ]
  },
  {
   "cell_type": "code",
   "execution_count": 15,
   "metadata": {},
   "outputs": [],
   "source": [
    "def rgb2idx(rgb, colors_rgb_indexs, colors_rgb) -> int:\n",
    "    return colors_rgb_indexs[colors_rgb.index(list(rgb))]"
   ]
  },
  {
   "cell_type": "code",
   "execution_count": 16,
   "metadata": {},
   "outputs": [],
   "source": [
    "idx_map = [rgb2idx(i, colors_rgb_indexs=colors_rgb_indexs, colors_rgb=colors_rgb) for i in test_img.reshape(-1,3)]"
   ]
  },
  {
   "cell_type": "code",
   "execution_count": 31,
   "metadata": {},
   "outputs": [
    {
     "data": {
      "image/png": "[encoded data removed]",
      "text/plain": [
       "<Figure size 2000x300 with 14 Axes>"
      ]
     },
     "metadata": {},
     "output_type": "display_data"
    }
   ],
   "source": [
    "plt.figure(figsize=(20,3))\n",
    "for i in range(14):\n",
    "    plt.subplot(2,7,i+1)\n",
    "    plt.axis('off')\n",
    "    plt.imshow(np.array(idx_map).reshape(1024,1024)==i)"
   ]
  },
  {
   "cell_type": "code",
   "execution_count": 30,
   "metadata": {},
   "outputs": [
    {
     "data": {
      "text/plain": [
       "[[0, 0, 0],\n",
       " [255, 255, 0],\n",
       " [247, 178, 173],\n",
       " [164, 255, 242],\n",
       " [0, 0, 207],\n",
       " [93, 64, 0],\n",
       " [255, 138, 0],\n",
       " [255, 0, 0],\n",
       " [0, 255, 0],\n",
       " [255, 0, 255],\n",
       " [255, 137, 0],\n",
       " [0, 178, 255],\n",
       " [141, 0, 46],\n",
       " [180, 129, 126]]"
      ]
     },
     "execution_count": 30,
     "metadata": {},
     "output_type": "execute_result"
    }
   ],
   "source": [
    "colors_rgb[:14]"
   ]
  },
  {
   "cell_type": "code",
   "execution_count": 20,
   "metadata": {},
   "outputs": [
    {
     "ename": "IndexError",
     "evalue": "index 0 is out of bounds for axis 0 with size 0",
     "output_type": "error",
     "traceback": [
      "\u001b[0;31m---------------------------------------------------------------------------\u001b[0m",
      "\u001b[0;31mIndexError\u001b[0m                                Traceback (most recent call last)",
      "Cell \u001b[0;32mIn[20], line 1\u001b[0m\n\u001b[0;32m----> 1\u001b[0m final_list \u001b[39m=\u001b[39m np\u001b[39m.\u001b[39marray([colors_rgb[np\u001b[39m.\u001b[39mwhere(colors_rgb_indexs\u001b[39m==\u001b[39mi)[\u001b[39m0\u001b[39m][\u001b[39m0\u001b[39m]] \u001b[39mfor\u001b[39;00m i \u001b[39min\u001b[39;00m \u001b[39mrange\u001b[39m(\u001b[39m15\u001b[39m)])[[\u001b[39m0\u001b[39m, \u001b[39m1\u001b[39m, \u001b[39m3\u001b[39m, \u001b[39m6\u001b[39m, \u001b[39m7\u001b[39m, \u001b[39m8\u001b[39m,\u001b[39m9\u001b[39m, \u001b[39m10\u001b[39m, \u001b[39m11\u001b[39m, \u001b[39m12\u001b[39m, \u001b[39m14\u001b[39m]]\n",
      "Cell \u001b[0;32mIn[20], line 1\u001b[0m, in \u001b[0;36m<listcomp>\u001b[0;34m(.0)\u001b[0m\n\u001b[0;32m----> 1\u001b[0m final_list \u001b[39m=\u001b[39m np\u001b[39m.\u001b[39marray([colors_rgb[np\u001b[39m.\u001b[39;49mwhere(colors_rgb_indexs\u001b[39m==\u001b[39;49mi)[\u001b[39m0\u001b[39;49m][\u001b[39m0\u001b[39;49m]] \u001b[39mfor\u001b[39;00m i \u001b[39min\u001b[39;00m \u001b[39mrange\u001b[39m(\u001b[39m15\u001b[39m)])[[\u001b[39m0\u001b[39m, \u001b[39m1\u001b[39m, \u001b[39m3\u001b[39m, \u001b[39m6\u001b[39m, \u001b[39m7\u001b[39m, \u001b[39m8\u001b[39m,\u001b[39m9\u001b[39m, \u001b[39m10\u001b[39m, \u001b[39m11\u001b[39m, \u001b[39m12\u001b[39m, \u001b[39m14\u001b[39m]]\n",
      "\u001b[0;31mIndexError\u001b[0m: index 0 is out of bounds for axis 0 with size 0"
     ]
    }
   ],
   "source": [
    "final_list = np.array([colors_rgb[np.where(colors_rgb_indexs==i)[0][0]] for i in range(15)])[[0, 1, 3, 6, 7, 8,9, 10, 11, 12, 14]]"
   ]
  },
  {
   "cell_type": "code",
   "execution_count": null,
   "metadata": {},
   "outputs": [],
   "source": [
    "final_list"
   ]
  }
 ],
 "metadata": {
  "kernelspec": {
   "display_name": "decentai-sgg",
   "language": "python",
   "name": "python3"
  },
  "language_info": {
   "codemirror_mode": {
    "name": "ipython",
    "version": 3
   },
   "file_extension": ".py",
   "mimetype": "text/x-python",
   "name": "python",
   "nbconvert_exporter": "python",
   "pygments_lexer": "ipython3",
   "version": "3.10.9"
  },
  "orig_nbformat": 4,
  "vscode": {
   "interpreter": {
    "hash": "3208a90459557b247f2b49360082afae737e6180c39dfbff00182e1103d1dd61"
   }
  }
 },
 "nbformat": 4,
 "nbformat_minor": 2
}
