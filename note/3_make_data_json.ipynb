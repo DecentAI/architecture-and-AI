{
 "cells": [
  {
   "cell_type": "code",
   "execution_count": 31,
   "metadata": {},
   "outputs": [],
   "source": [
    "\"\"\"\n",
    "- label : accept | wrong\n",
    "- wall_type : cmu | cStud | title | WD\n",
    "- wrong_reason : none | string\n",
    "_ path: string\n",
    "\"\"\"\n",
    "\n",
    "\n",
    "def search_wall_type_from_path(path_name):\n",
    "    if \"cmu\" in path_name:\n",
    "        return \"cmu\"\n",
    "    elif \"cStud\" in path_name:\n",
    "        return \"cStud\"\n",
    "    elif \"tile\" in path_name:\n",
    "        return \"tile\"\n",
    "    elif \"WD\" in path_name:\n",
    "        return \"WD\"\n",
    "    return None\n",
    "\n",
    "\n",
    "def make_data_json(pah_name):\n",
    "    json_Obj = {}\n",
    "    json_Obj[\"label\"] = \"error\" if \"error\" in pah_name else \"accept\"\n",
    "    json_Obj[\"wall_type\"] = search_wall_type_from_path(pah_name)\n",
    "    json_Obj[\"wrong_reason\"] = \"none\" if json_Obj[\"label\"] == \"accept\" else pah_name.split(\"/\")[-2]\n",
    "    json_Obj[\"path\"] = pah_name\n",
    "    return json_Obj\n",
    "\n",
    "\n",
    "def find_data_keyword_filter(data, keyword, value):\n",
    "    return list(filter(lambda x: x[keyword] == value, data))"
   ]
  },
  {
   "cell_type": "code",
   "execution_count": 2,
   "metadata": {},
   "outputs": [],
   "source": [
    "import os, json\n",
    "\n",
    "os.chdir(\"../\")"
   ]
  },
  {
   "cell_type": "code",
   "execution_count": 32,
   "metadata": {},
   "outputs": [],
   "source": [
    "data_json = {}\n",
    "idx = 0\n",
    "for root, folders, files in os.walk(\"data\"):\n",
    "    for _file in files:\n",
    "        if _file.endswith(\".pt\"):\n",
    "            data_json[idx] = {\"id\": idx, **make_data_json(os.path.join(root, _file))}\n",
    "            idx += 1"
   ]
  },
  {
   "cell_type": "code",
   "execution_count": 33,
   "metadata": {},
   "outputs": [],
   "source": [
    "json.dump(data_json, open(\"wall-all.json\", \"w\"))"
   ]
  },
  {
   "cell_type": "code",
   "execution_count": 34,
   "metadata": {},
   "outputs": [
    {
     "name": "stdout",
     "output_type": "stream",
     "text": [
      "1616 4004\n"
     ]
    }
   ],
   "source": [
    "error_case = find_data_keyword_filter(data_json.values(), \"label\", \"error\")\n",
    "accept_case = find_data_keyword_filter(data_json.values(), \"label\", \"accept\")\n",
    "print(len(error_case), len(accept_case))"
   ]
  },
  {
   "cell_type": "code",
   "execution_count": 46,
   "metadata": {},
   "outputs": [
    {
     "name": "stdout",
     "output_type": "stream",
     "text": [
      "1001\n",
      "1001\n",
      "1001\n",
      "1001\n"
     ]
    },
    {
     "data": {
      "text/plain": [
       "(None, None, None, None)"
      ]
     },
     "execution_count": 46,
     "metadata": {},
     "output_type": "execute_result"
    }
   ],
   "source": [
    "accpet_case_cmu = find_data_keyword_filter(accept_case, \"wall_type\", \"cmu\")\n",
    "accpet_case_cStud = find_data_keyword_filter(accept_case, \"wall_type\", \"cStud\")\n",
    "accpet_case_tile = find_data_keyword_filter(accept_case, \"wall_type\", \"tile\")\n",
    "accpet_case_WD = find_data_keyword_filter(accept_case, \"wall_type\", \"WD\")\n",
    "print(len(accpet_case_cmu)), print(len(accpet_case_cStud)), print(len(accpet_case_tile)), print(\n",
    "    len(accpet_case_WD)\n",
    ")"
   ]
  },
  {
   "cell_type": "code",
   "execution_count": 35,
   "metadata": {},
   "outputs": [
    {
     "name": "stdout",
     "output_type": "stream",
     "text": [
      "404 606 303 303\n"
     ]
    }
   ],
   "source": [
    "error_case_cmu = find_data_keyword_filter(error_case, \"wall_type\", \"cmu\")\n",
    "error_case_cStud = find_data_keyword_filter(error_case, \"wall_type\", \"cStud\")\n",
    "error_case_tile = find_data_keyword_filter(error_case, \"wall_type\", \"tile\")\n",
    "error_case_WD = find_data_keyword_filter(error_case, \"wall_type\", \"WD\")\n",
    "print(len(error_case_cmu), len(error_case_cStud), len(error_case_tile), len(error_case_WD))"
   ]
  },
  {
   "cell_type": "code",
   "execution_count": 53,
   "metadata": {},
   "outputs": [
    {
     "name": "stdout",
     "output_type": "stream",
     "text": [
      "{'e01_CMU_ID_noMembrane', 'e02_CMU_ID_noAir', 'e03_CMU_ID_noAirTie', 'e04_CMU_ID_noAirTieInsulation'}\n",
      "{'e06_ID_SwitchOnly', 'e03_ID_noAir', 'e05_ID_noAir_Switch', 'e04_ID_noTie_Air', 'e02_ID_noMembrane', 'e01_ID_noStud'}\n",
      "{'e03_ID_noMembraneInsulationAirAirbarrier', 'e02_ID_noMembraneInsulationAir', 'e01_ID_noMembrane'}\n",
      "{'e03_ID_noAirPinInsulationMortar', 'e01_tile_ID_noMembrane', 'e02_tile_ID_noAirPinInsulation'}\n"
     ]
    },
    {
     "data": {
      "text/plain": [
       "(None, None, None, None)"
      ]
     },
     "execution_count": 53,
     "metadata": {},
     "output_type": "execute_result"
    }
   ],
   "source": [
    "cmu_error_reasons = set([x[\"wrong_reason\"] for x in error_case_cmu])\n",
    "cmu_error = [\n",
    "    find_data_keyword_filter(error_case_cmu, \"wrong_reason\", reason) for reason in cmu_error_reasons\n",
    "]\n",
    "#\n",
    "cStud_error_reasons = set([x[\"wrong_reason\"] for x in error_case_cStud])\n",
    "cStud_error = [\n",
    "    find_data_keyword_filter(error_case_cStud, \"wrong_reason\", reason)\n",
    "    for reason in cStud_error_reasons\n",
    "]\n",
    "#\n",
    "WD_error_reasons = set([x[\"wrong_reason\"] for x in error_case_WD])\n",
    "WD_error = [\n",
    "    find_data_keyword_filter(error_case_WD, \"wrong_reason\", reason) for reason in WD_error_reasons\n",
    "]\n",
    "#\n",
    "tile_error_reasons = set([x[\"wrong_reason\"] for x in error_case_tile])\n",
    "tile_error = [\n",
    "    find_data_keyword_filter(error_case_tile, \"wrong_reason\", reason)\n",
    "    for reason in tile_error_reasons\n",
    "]\n",
    "#\n",
    "print(cmu_error_reasons), print(cStud_error_reasons), print(WD_error_reasons), print(\n",
    "    tile_error_reasons\n",
    ")"
   ]
  },
  {
   "cell_type": "code",
   "execution_count": 56,
   "metadata": {},
   "outputs": [
    {
     "name": "stdout",
     "output_type": "stream",
     "text": [
      "0\n",
      "1\n",
      "2\n",
      "3\n",
      "4\n",
      "5\n",
      "6\n",
      "7\n",
      "8\n",
      "9\n",
      "10\n",
      "11\n",
      "12\n",
      "13\n",
      "14\n",
      "15\n",
      "16\n",
      "17\n",
      "18\n",
      "19\n"
     ]
    }
   ],
   "source": [
    "json_train, test_train = [], []\n",
    "# ---\n",
    "cnt = 0\n",
    "for each_data in [\n",
    "    accpet_case_WD,\n",
    "    accpet_case_cStud,\n",
    "    accpet_case_cmu,\n",
    "    accpet_case_tile,\n",
    "    *cmu_error,\n",
    "    *cStud_error,\n",
    "    *WD_error,\n",
    "    *tile_error,\n",
    "]:\n",
    "    json_train.extend(each_data[: int(len(each_data) * 0.8)])\n",
    "    test_train.extend(each_data[int(len(each_data) * 0.8) :])\n",
    "    print(cnt)\n",
    "    cnt += 1"
   ]
  },
  {
   "cell_type": "code",
   "execution_count": 62,
   "metadata": {},
   "outputs": [],
   "source": [
    "json.dump({i[\"id\"]: i for i in json_train}, open(\"wall-train.json\", \"w\"))\n",
    "json.dump({i[\"id\"]: i for i in test_train}, open(\"wall-test.json\", \"w\"))"
   ]
  },
  {
   "cell_type": "code",
   "execution_count": 59,
   "metadata": {},
   "outputs": [
    {
     "data": {
      "text/plain": [
       "1140"
      ]
     },
     "execution_count": 59,
     "metadata": {},
     "output_type": "execute_result"
    }
   ],
   "source": [
    "len(test_train)"
   ]
  },
  {
   "cell_type": "code",
   "execution_count": null,
   "metadata": {},
   "outputs": [],
   "source": []
  }
 ],
 "metadata": {
  "kernelspec": {
   "display_name": "decentai-sgg",
   "language": "python",
   "name": "python3"
  },
  "language_info": {
   "codemirror_mode": {
    "name": "ipython",
    "version": 3
   },
   "file_extension": ".py",
   "mimetype": "text/x-python",
   "name": "python",
   "nbconvert_exporter": "python",
   "pygments_lexer": "ipython3",
   "version": "3.10.9"
  },
  "orig_nbformat": 4
 },
 "nbformat": 4,
 "nbformat_minor": 2
}
